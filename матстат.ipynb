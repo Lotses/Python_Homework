{
 "cells": [
  {
   "cell_type": "code",
   "execution_count": 38,
   "id": "248b05db",
   "metadata": {},
   "outputs": [],
   "source": [
    "import numpy as np\n",
    "import pandas as pd\n",
    "import matplotlib.pyplot as plt"
   ]
  },
  {
   "cell_type": "markdown",
   "id": "7f8fe0a7",
   "metadata": {},
   "source": [
    "Для примера возьмём значения мощности автомобилей - x(в л.с.) и их цену - y (в 10 тыс.) для 10-и наблюдений"
   ]
  },
  {
   "cell_type": "code",
   "execution_count": 26,
   "id": "21fd2709",
   "metadata": {},
   "outputs": [],
   "source": [
    "n = 10\n",
    "\n",
    "x = np.array([81, 91, 85, 114, 84, 83, 92, 81, 107, 120], dtype = np.float64)\n",
    "y = np.array([152, 160, 154, 172, 141, 152, 142, 154, 163, 180], dtype = np.float64)\n"
   ]
  },
  {
   "cell_type": "code",
   "execution_count": 17,
   "id": "ab811236",
   "metadata": {},
   "outputs": [
    {
     "data": {
      "text/plain": [
       "0.7077360876897019"
      ]
     },
     "execution_count": 17,
     "metadata": {},
     "output_type": "execute_result"
    }
   ],
   "source": [
    "# находим коэффициенты регрессии a и b\n",
    "b = (np.mean(x * y) - np.mean(x) * np.mean(y)) / (np.mean(x**2) - np.mean(x)**2)\n",
    "b\n"
   ]
  },
  {
   "cell_type": "code",
   "execution_count": 18,
   "id": "98ce8584",
   "metadata": {},
   "outputs": [
    {
     "data": {
      "text/plain": [
       "90.61435497470596"
      ]
     },
     "execution_count": 18,
     "metadata": {},
     "output_type": "execute_result"
    }
   ],
   "source": [
    "a = np.mean(y) - b * np.mean(x)\n",
    "a"
   ]
  },
  {
   "cell_type": "code",
   "execution_count": 20,
   "id": "e7af6a49",
   "metadata": {},
   "outputs": [
    {
     "data": {
      "text/plain": [
       "0.8397088506341199"
      ]
     },
     "execution_count": 20,
     "metadata": {},
     "output_type": "execute_result"
    }
   ],
   "source": [
    "# уравнение регрессии имеет вид y = 0.71x + 90.6\n",
    "# С увеличением мощности на 1лс, стоимость увеличивается на 70тыс. р\n",
    "\n",
    "# теперь найдём коэфициент корреляции\n",
    "r = b * np.std(x) / np.std(y)\n",
    "r"
   ]
  },
  {
   "cell_type": "code",
   "execution_count": 22,
   "id": "6ce1d77b",
   "metadata": {},
   "outputs": [
    {
     "data": {
      "text/plain": [
       "0.7051109538332747"
      ]
     },
     "execution_count": 22,
     "metadata": {},
     "output_type": "execute_result"
    }
   ],
   "source": [
    "# коэфициент корреляции r > 0.5 => наблюдается сильная линейная зависимость. \n",
    "# коэфициент детерминации R2\n",
    "R2 = r**2\n",
    "R2"
   ]
  },
  {
   "cell_type": "code",
   "execution_count": 24,
   "id": "037f2f40",
   "metadata": {},
   "outputs": [
    {
     "data": {
      "text/plain": [
       "array([147.94097808, 155.01833895, 150.77192243, 171.29626897,\n",
       "       150.06418634, 149.35645025, 155.72607504, 147.94097808,\n",
       "       166.34211636, 175.5426855 ])"
      ]
     },
     "execution_count": 24,
     "metadata": {},
     "output_type": "execute_result"
    }
   ],
   "source": [
    "# 71% вариации цены на машину объясняется вариацией фактора х - количеством л.с.\n",
    "# с помощью уравнения регрессии посчитаем значения цен на авто, предсказанные моделью\n",
    "y_pred = a + b * x\n",
    "y_pred"
   ]
  },
  {
   "cell_type": "code",
   "execution_count": 25,
   "id": "fdc6ffd9",
   "metadata": {},
   "outputs": [
    {
     "data": {
      "text/plain": [
       "3.458426976076435"
      ]
     },
     "execution_count": 25,
     "metadata": {},
     "output_type": "execute_result"
    }
   ],
   "source": [
    "# найдём качество модели с помощью средней ошибки аппрокимации А\n",
    "A_mean = 100 * np.mean(np.abs((y - y_pred) / y))\n",
    "A_mean"
   ]
  },
  {
   "cell_type": "code",
   "execution_count": 27,
   "id": "42316f30",
   "metadata": {},
   "outputs": [
    {
     "data": {
      "text/plain": [
       "0.2988882441544713"
      ]
     },
     "execution_count": 27,
     "metadata": {},
     "output_type": "execute_result"
    }
   ],
   "source": [
    "# A = 3.5% , что не превышает 8-10%, модель хорошо описывает эмпирические данные.\n",
    "# Для оценки значимости уравнения регрессии воспользуемся F-критерием Фишера.\n",
    "# Фактическое значение F:\n",
    "F_fact = ((r**2)/ (n - 2)) / (1 - r**2)\n",
    "F_fact"
   ]
  },
  {
   "cell_type": "code",
   "execution_count": null,
   "id": "fd33200f",
   "metadata": {},
   "outputs": [],
   "source": [
    "# При 5% уровне значимости и степенях свободы k1 = 1 и k2 = 10-2 = 8 табличное значение\n",
    "# критерия F = 5,32\n",
    "# Уравнение регрессии статистически незначимо. "
   ]
  },
  {
   "cell_type": "code",
   "execution_count": 29,
   "id": "6360fb92",
   "metadata": {},
   "outputs": [
    {
     "name": "stdout",
     "output_type": "stream",
     "text": [
      "s_residual= 7.049028605353316\n",
      "m_a = 15.341340206804288 \n",
      "m_b = 0.1618180402190359\n"
     ]
    }
   ],
   "source": [
    "# Для оценки статистической значимости параметров регрессии используем t-статистику Стьюдента\n",
    "# и рассчитаем доверительные интервалы каждого их показателей. При df = 8 и альфа = 0.05\n",
    "# t_kp = 2,306\n",
    "# Опреелим стандартную ошибку: \n",
    "s_residual = np.sqrt(np.sum((y - y_pred)**2) / (n - 2))\n",
    "m_a = s_residual * np.sqrt(np.sum( x**2)) / (n * np.std(x))\n",
    "m_b = s_residual / (np.std(x) * np.sqrt(n))\n",
    "print(f's_residual= {s_residual}\\nm_a = {m_a} \\nm_b = {m_b}')"
   ]
  },
  {
   "cell_type": "code",
   "execution_count": 30,
   "id": "480e3874",
   "metadata": {},
   "outputs": [
    {
     "data": {
      "text/plain": [
       "35.37713051689069"
      ]
     },
     "execution_count": 30,
     "metadata": {},
     "output_type": "execute_result"
    }
   ],
   "source": [
    "# m_a > t , m_b < t  показатель а является значимым. Расчитаем доверительные интервалы\n",
    "t_cr = 2.306\n",
    "delta_a = t_cr * m_a\n",
    "delta_a\n"
   ]
  },
  {
   "cell_type": "code",
   "execution_count": 33,
   "id": "52453d84",
   "metadata": {},
   "outputs": [
    {
     "name": "stdout",
     "output_type": "stream",
     "text": [
      "[55.23722445781527, 125.99148549159665]\n"
     ]
    }
   ],
   "source": [
    "gamma_a_min = a - delta_a\n",
    "gamma_a_max = a + delta_a\n",
    "print(f'[{gamma_a_min}, {gamma_a_max}]')"
   ]
  },
  {
   "cell_type": "code",
   "execution_count": 37,
   "id": "7832ce64",
   "metadata": {},
   "outputs": [
    {
     "data": {
      "text/html": [
       "<div>\n",
       "<style scoped>\n",
       "    .dataframe tbody tr th:only-of-type {\n",
       "        vertical-align: middle;\n",
       "    }\n",
       "\n",
       "    .dataframe tbody tr th {\n",
       "        vertical-align: top;\n",
       "    }\n",
       "\n",
       "    .dataframe thead th {\n",
       "        text-align: right;\n",
       "    }\n",
       "</style>\n",
       "<table border=\"1\" class=\"dataframe\">\n",
       "  <thead>\n",
       "    <tr style=\"text-align: right;\">\n",
       "      <th></th>\n",
       "      <th>x</th>\n",
       "      <th>y</th>\n",
       "      <th>y_pred</th>\n",
       "    </tr>\n",
       "  </thead>\n",
       "  <tbody>\n",
       "    <tr>\n",
       "      <th>0</th>\n",
       "      <td>81.0</td>\n",
       "      <td>152.0</td>\n",
       "      <td>147.940978</td>\n",
       "    </tr>\n",
       "    <tr>\n",
       "      <th>7</th>\n",
       "      <td>81.0</td>\n",
       "      <td>154.0</td>\n",
       "      <td>147.940978</td>\n",
       "    </tr>\n",
       "    <tr>\n",
       "      <th>5</th>\n",
       "      <td>83.0</td>\n",
       "      <td>152.0</td>\n",
       "      <td>149.356450</td>\n",
       "    </tr>\n",
       "    <tr>\n",
       "      <th>4</th>\n",
       "      <td>84.0</td>\n",
       "      <td>141.0</td>\n",
       "      <td>150.064186</td>\n",
       "    </tr>\n",
       "    <tr>\n",
       "      <th>2</th>\n",
       "      <td>85.0</td>\n",
       "      <td>154.0</td>\n",
       "      <td>150.771922</td>\n",
       "    </tr>\n",
       "    <tr>\n",
       "      <th>1</th>\n",
       "      <td>91.0</td>\n",
       "      <td>160.0</td>\n",
       "      <td>155.018339</td>\n",
       "    </tr>\n",
       "    <tr>\n",
       "      <th>6</th>\n",
       "      <td>92.0</td>\n",
       "      <td>142.0</td>\n",
       "      <td>155.726075</td>\n",
       "    </tr>\n",
       "    <tr>\n",
       "      <th>8</th>\n",
       "      <td>107.0</td>\n",
       "      <td>163.0</td>\n",
       "      <td>166.342116</td>\n",
       "    </tr>\n",
       "    <tr>\n",
       "      <th>3</th>\n",
       "      <td>114.0</td>\n",
       "      <td>172.0</td>\n",
       "      <td>171.296269</td>\n",
       "    </tr>\n",
       "    <tr>\n",
       "      <th>9</th>\n",
       "      <td>120.0</td>\n",
       "      <td>180.0</td>\n",
       "      <td>175.542685</td>\n",
       "    </tr>\n",
       "  </tbody>\n",
       "</table>\n",
       "</div>"
      ],
      "text/plain": [
       "       x      y      y_pred\n",
       "0   81.0  152.0  147.940978\n",
       "7   81.0  154.0  147.940978\n",
       "5   83.0  152.0  149.356450\n",
       "4   84.0  141.0  150.064186\n",
       "2   85.0  154.0  150.771922\n",
       "1   91.0  160.0  155.018339\n",
       "6   92.0  142.0  155.726075\n",
       "8  107.0  163.0  166.342116\n",
       "3  114.0  172.0  171.296269\n",
       "9  120.0  180.0  175.542685"
      ]
     },
     "execution_count": 37,
     "metadata": {},
     "output_type": "execute_result"
    }
   ],
   "source": [
    "df = pd.DataFrame({'x': x, 'y': y, 'y_pred': y_pred}, columns=['x', 'y', 'y_pred'])\n",
    "df = df.sort_values('x')\n",
    "df"
   ]
  },
  {
   "cell_type": "code",
   "execution_count": 39,
   "id": "2746e0bf",
   "metadata": {},
   "outputs": [
    {
     "data": {
      "image/png": "[encoded data removed]",
      "text/plain": [
       "<Figure size 640x480 with 1 Axes>"
      ]
     },
     "metadata": {},
     "output_type": "display_data"
    }
   ],
   "source": [
    "plt.scatter(df['x'], df['y'])\n",
    "plt.plot(df['x'], df['y_pred'])\n",
    "plt.xlabel('Мощность авто (л.с.)')\n",
    "plt.ylabel('Цена авто  (10 тыс.)')\n",
    "plt.show()"
   ]
  },
  {
   "cell_type": "code",
   "execution_count": null,
   "id": "33e44874",
   "metadata": {},
   "outputs": [],
   "source": []
  }
 ],
 "metadata": {
  "kernelspec": {
   "display_name": "Python 3 (ipykernel)",
   "language": "python",
   "name": "python3"
  },
  "language_info": {
   "codemirror_mode": {
    "name": "ipython",
    "version": 3
   },
   "file_extension": ".py",
   "mimetype": "text/x-python",
   "name": "python",
   "nbconvert_exporter": "python",
   "pygments_lexer": "ipython3",
   "version": "3.9.13"
  }
 },
 "nbformat": 4,
 "nbformat_minor": 5
}
